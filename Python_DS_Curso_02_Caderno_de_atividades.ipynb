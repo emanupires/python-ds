{
  "nbformat": 4,
  "nbformat_minor": 0,
  "metadata": {
    "colab": {
      "provenance": [],
      "include_colab_link": true
    },
    "kernelspec": {
      "name": "python3",
      "display_name": "Python 3"
    },
    "language_info": {
      "name": "python"
    }
  },
  "cells": [
    {
      "cell_type": "markdown",
      "metadata": {
        "id": "view-in-github",
        "colab_type": "text"
      },
      "source": [
        "<a href=\"https://colab.research.google.com/github/emanupires/python-ds/blob/main/Python_DS_Curso_02_Caderno_de_atividades.ipynb\" target=\"_parent\"><img src=\"https://colab.research.google.com/assets/colab-badge.svg\" alt=\"Open In Colab\"/></a>"
      ]
    },
    {
      "cell_type": "markdown",
      "source": [
        "## <font color=blue> UNIDADE 01\n",
        "---"
      ],
      "metadata": {
        "id": "fH2br9y9CYZ8"
      }
    },
    {
      "cell_type": "markdown",
      "source": [
        "01. Escreva um código para instalar a versão 3.7.1 da biblioteca matplotlib"
      ],
      "metadata": {
        "id": "_qnuIo7oIQYx"
      }
    },
    {
      "cell_type": "code",
      "source": [
        "!pip install matplotlib==3.7.1"
      ],
      "metadata": {
        "id": "s7JtnISoNHjf",
        "colab": {
          "base_uri": "https://localhost:8080/"
        },
        "outputId": "6638759f-3a1f-435e-87ba-e038e5ac0c7e"
      },
      "execution_count": null,
      "outputs": [
        {
          "output_type": "stream",
          "name": "stdout",
          "text": [
            "Requirement already satisfied: matplotlib==3.7.1 in /usr/local/lib/python3.10/dist-packages (3.7.1)\n",
            "Requirement already satisfied: contourpy>=1.0.1 in /usr/local/lib/python3.10/dist-packages (from matplotlib==3.7.1) (1.3.1)\n",
            "Requirement already satisfied: cycler>=0.10 in /usr/local/lib/python3.10/dist-packages (from matplotlib==3.7.1) (0.12.1)\n",
            "Requirement already satisfied: fonttools>=4.22.0 in /usr/local/lib/python3.10/dist-packages (from matplotlib==3.7.1) (4.55.0)\n",
            "Requirement already satisfied: kiwisolver>=1.0.1 in /usr/local/lib/python3.10/dist-packages (from matplotlib==3.7.1) (1.4.7)\n",
            "Requirement already satisfied: numpy>=1.20 in /usr/local/lib/python3.10/dist-packages (from matplotlib==3.7.1) (1.26.4)\n",
            "Requirement already satisfied: packaging>=20.0 in /usr/local/lib/python3.10/dist-packages (from matplotlib==3.7.1) (24.2)\n",
            "Requirement already satisfied: pillow>=6.2.0 in /usr/local/lib/python3.10/dist-packages (from matplotlib==3.7.1) (11.0.0)\n",
            "Requirement already satisfied: pyparsing>=2.3.1 in /usr/local/lib/python3.10/dist-packages (from matplotlib==3.7.1) (3.2.0)\n",
            "Requirement already satisfied: python-dateutil>=2.7 in /usr/local/lib/python3.10/dist-packages (from matplotlib==3.7.1) (2.8.2)\n",
            "Requirement already satisfied: six>=1.5 in /usr/local/lib/python3.10/dist-packages (from python-dateutil>=2.7->matplotlib==3.7.1) (1.16.0)\n"
          ]
        }
      ]
    },
    {
      "cell_type": "markdown",
      "source": [
        "2. Escreva um código para importar a biblioteca numpy com o alias np"
      ],
      "metadata": {
        "id": "oPbMXSaG55SQ"
      }
    },
    {
      "cell_type": "code",
      "source": [
        "import numpy as np"
      ],
      "metadata": {
        "id": "Y8boVRO559UY"
      },
      "execution_count": null,
      "outputs": []
    },
    {
      "cell_type": "markdown",
      "source": [
        "3. Crie um programa que leia a seguinte lista de números e escolha um número desta aleatoriamente.\n",
        "\n",
        "*   lista = [8, 12, 54, 23, 43, 1, 90, 87, 105, 77]\n",
        "\n"
      ],
      "metadata": {
        "id": "JzS0Q6pY6PDo"
      }
    },
    {
      "cell_type": "code",
      "source": [
        "from random import choice"
      ],
      "metadata": {
        "id": "kK0oLCbl6VVi"
      },
      "execution_count": null,
      "outputs": []
    },
    {
      "cell_type": "code",
      "source": [
        "lista = [8, 12, 54, 23, 43, 1, 90, 87, 105, 77]"
      ],
      "metadata": {
        "id": "8W6U77Ot6ax-"
      },
      "execution_count": null,
      "outputs": []
    },
    {
      "cell_type": "code",
      "source": [
        "numero_escolhido = choice(lista)\n",
        "numero_escolhido"
      ],
      "metadata": {
        "colab": {
          "base_uri": "https://localhost:8080/"
        },
        "id": "FiqsTODF6gTn",
        "outputId": "1ddeebc9-8502-4e32-aace-6604d35af1c6"
      },
      "execution_count": null,
      "outputs": [
        {
          "output_type": "execute_result",
          "data": {
            "text/plain": [
              "77"
            ]
          },
          "metadata": {},
          "execution_count": 12
        }
      ]
    },
    {
      "cell_type": "markdown",
      "source": [
        "4. Crie um programa que sorteia, aleatoriamente, um número inteiro positivo menor que 100."
      ],
      "metadata": {
        "id": "iCkk66JO6yIY"
      }
    },
    {
      "cell_type": "code",
      "source": [
        "from random import randrange"
      ],
      "metadata": {
        "id": "0S0sDZJ67z9V"
      },
      "execution_count": null,
      "outputs": []
    },
    {
      "cell_type": "code",
      "source": [
        "numero_sorteado = randrange(0, 100, 1)\n",
        "numero_sorteado"
      ],
      "metadata": {
        "colab": {
          "base_uri": "https://localhost:8080/"
        },
        "id": "J0KVrL_N8Hro",
        "outputId": "1bbfeba3-0255-4c77-8799-dda3846d875e"
      },
      "execution_count": null,
      "outputs": [
        {
          "output_type": "execute_result",
          "data": {
            "text/plain": [
              "74"
            ]
          },
          "metadata": {},
          "execution_count": 22
        }
      ]
    },
    {
      "cell_type": "markdown",
      "source": [
        "5. Crie um programa que solicite à pessoa usuária digitar dois números inteiros e calcular a potência do 1º número elevado ao 2º."
      ],
      "metadata": {
        "id": "-BsLRCjB9AVc"
      }
    },
    {
      "cell_type": "code",
      "source": [
        "numero = int(input('Insira o primeiro valor: '))\n",
        "potencia = int(input('Insira o segundo valor: '))\n",
        "\n",
        "resultado = pow(numero, potencia)\n",
        "resultado"
      ],
      "metadata": {
        "colab": {
          "base_uri": "https://localhost:8080/"
        },
        "id": "mMgx56Lt9Cj4",
        "outputId": "e064575f-864a-4968-8e25-70435cecf1d9"
      },
      "execution_count": null,
      "outputs": [
        {
          "name": "stdout",
          "output_type": "stream",
          "text": [
            "Insira o primeiro valor: 5\n",
            "Insira o segundo valor: 6\n"
          ]
        },
        {
          "output_type": "execute_result",
          "data": {
            "text/plain": [
              "15625"
            ]
          },
          "metadata": {},
          "execution_count": 28
        }
      ]
    },
    {
      "cell_type": "markdown",
      "source": [
        "6. Um programa deve ser escrito para sortear uma pessoa seguidora de uma rede social para ganhar um prêmio. A lista de participantes é numerada e devemos escolher aleatoriamente um número de acordo com a quantidade de participantes. Peça à pessoa usuária para fornecer o número de participantes do sorteio e devolva para ela o número sorteado."
      ],
      "metadata": {
        "id": "V2PkfdoG993W"
      }
    },
    {
      "cell_type": "code",
      "source": [
        "# importar biblioteca que faz sorteio aleatório\n",
        "from random import randrange, choice\n",
        "\n",
        "# solicitar uma quantidade de seguidores\n",
        "seguidores = int(input('Escreva sua quantidade de seguidores: '))\n",
        "\n",
        "# executar função\n",
        "sorteio = randrange(0, seguidores, 1)\n",
        "\n",
        "# imprimir resultado\n",
        "sorteio"
      ],
      "metadata": {
        "colab": {
          "base_uri": "https://localhost:8080/"
        },
        "id": "3aRHoiKid7It",
        "outputId": "21b7b4ad-17e1-49bd-88a1-6b820bdeb84b"
      },
      "execution_count": 5,
      "outputs": [
        {
          "name": "stdout",
          "output_type": "stream",
          "text": [
            "Escreva sua quantidade de seguidores: 45\n"
          ]
        },
        {
          "output_type": "execute_result",
          "data": {
            "text/plain": [
              "37"
            ]
          },
          "metadata": {},
          "execution_count": 5
        }
      ]
    },
    {
      "cell_type": "markdown",
      "source": [
        "7. Você recebeu uma demanda para gerar números de token para acessar o aplicativo de uma empresa. O token precisa ser par e variar de 1000 até 9998. Escreva um código que solicita à pessoa usuária o seu nome e exibe uma mensagem junto a esse token gerado aleatoriamente.\n",
        "\n",
        "*   \"Olá, [nome], o seu token de acesso é [token]! Seja bem-vindo(a)!\"\n",
        "\n"
      ],
      "metadata": {
        "id": "8j7iofRa--E4"
      }
    },
    {
      "cell_type": "code",
      "source": [
        "# importar biblioteca\n",
        "\n",
        "# solicitar o nome\n",
        "\n",
        "# gerar token (par = if val % 2 == 0: print(val, end = \" \"))\n",
        "\n",
        "# imprimir nome"
      ],
      "metadata": {
        "id": "tg-vHMPbe71G"
      },
      "execution_count": null,
      "outputs": []
    },
    {
      "cell_type": "markdown",
      "source": [
        "8. Para diversificar e atrair novos(as) clientes, uma lanchonete criou um item misterioso em seu cardápio chamado \"salada de frutas surpresa\". Neste item, são escolhidas aleatoriamente 3 frutas de uma lista de 12 para compor a salada de frutas da pessoa cliente. Crie o código que faça essa seleção aleatória de acordo com a lista abaixo:\n",
        "\n",
        "*   frutas = [\"maçã\", \"banana\", \"uva\", \"pêra\",\n",
        "          \"manga\", \"coco\", \"melancia\", \"mamão\",\n",
        "          \"laranja\", \"abacaxi\", \"kiwi\", \"ameixa\"]\n",
        "\n"
      ],
      "metadata": {
        "id": "4xujsrpD_DHu"
      }
    },
    {
      "cell_type": "markdown",
      "source": [
        "9. Você recebeu um desafio de calcular a raiz quadrada de uma lista de números, identificando quais resultaram em um número inteiro. A lista é a seguinte:\n",
        "\n",
        "*   numeros = [2, 8, 15, 23, 91, 112, 256]\n",
        "\n",
        "No final, informe quais números possuem raízes inteiras e seus respectivos valores.\n",
        "\n",
        "Dica: use a comparação entre a divisão inteira (//) da raiz por 1 com o valor da raiz para verificar se o número é inteiro. Por exemplo:\n",
        "\n",
        "*   num = 1.5\n",
        "num_2 = 2\n",
        "print(f'{num} é inteiro? :', num // 1 == num)\n",
        "print(f'{num_2} é inteiro? :', num_2 // 1 == num_2)\n",
        "\n",
        "\n",
        "Saída:\n",
        "\n",
        "\n",
        "*   1.5 é inteiro? : False\n",
        "2 é inteiro? : True"
      ],
      "metadata": {
        "id": "oIb4K-Ls_IbH"
      }
    },
    {
      "cell_type": "markdown",
      "source": [
        "10. Faça um programa para uma loja que vende grama para jardins. Essa loja trabalha com jardins circulares e o preço do metro quadrado da grama é de R$ 25,00. Peça à pessoa usuária o raio da área circular e devolva o valor em reais do quanto precisará pagar.\n",
        "\n",
        "*   Dica: use a variável pi e o método pow() da biblioteca math. O cálculo da área de um círculo é de: A = π*r^2 (lê-se pi vezes raio ao quadrado)."
      ],
      "metadata": {
        "id": "SunzuK9i_lDt"
      }
    },
    {
      "cell_type": "markdown",
      "source": [
        "## <font color=blue> UNIDADE 02\n",
        "---"
      ],
      "metadata": {
        "id": "2hrSPmlcBwWS"
      }
    },
    {
      "cell_type": "markdown",
      "source": [
        "## <font color=blue> UNIDADE 03\n",
        "---"
      ],
      "metadata": {
        "id": "DoB6wf2JCYf7"
      }
    },
    {
      "cell_type": "markdown",
      "source": [
        "## <font color=blue> UNIDADE 04\n",
        "---"
      ],
      "metadata": {
        "id": "RxKC5WVoCYp3"
      }
    }
  ]
}